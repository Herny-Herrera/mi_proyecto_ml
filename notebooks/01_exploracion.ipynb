{
 "cells": [
  {
   "cell_type": "markdown",
   "metadata": {},
   "source": [
    "# Carga Dataset"
   ]
  },
  {
   "cell_type": "code",
   "execution_count": 1,
   "metadata": {},
   "outputs": [
    {
     "name": "stdout",
     "output_type": "stream",
     "text": [
      "✅ Dataset cargado correctamente.\n",
      "✅ Preprocesamiento completado. Dimensiones finales: (4486, 11)\n"
     ]
    },
    {
     "name": "stderr",
     "output_type": "stream",
     "text": [
      "C:\\Users\\USER\\OneDrive\\Escritorio\\Maestría\\mi_proyecto_ml\\src\\data_loader.py:38: SettingWithCopyWarning: \n",
      "A value is trying to be set on a copy of a slice from a DataFrame.\n",
      "Try using .loc[row_indexer,col_indexer] = value instead\n",
      "\n",
      "See the caveats in the documentation: https://pandas.pydata.org/pandas-docs/stable/user_guide/indexing.html#returning-a-view-versus-a-copy\n",
      "  data[col] = encoder.fit_transform(data[col])\n",
      "C:\\Users\\USER\\OneDrive\\Escritorio\\Maestría\\mi_proyecto_ml\\src\\data_loader.py:38: SettingWithCopyWarning: \n",
      "A value is trying to be set on a copy of a slice from a DataFrame.\n",
      "Try using .loc[row_indexer,col_indexer] = value instead\n",
      "\n",
      "See the caveats in the documentation: https://pandas.pydata.org/pandas-docs/stable/user_guide/indexing.html#returning-a-view-versus-a-copy\n",
      "  data[col] = encoder.fit_transform(data[col])\n",
      "C:\\Users\\USER\\OneDrive\\Escritorio\\Maestría\\mi_proyecto_ml\\src\\data_loader.py:38: SettingWithCopyWarning: \n",
      "A value is trying to be set on a copy of a slice from a DataFrame.\n",
      "Try using .loc[row_indexer,col_indexer] = value instead\n",
      "\n",
      "See the caveats in the documentation: https://pandas.pydata.org/pandas-docs/stable/user_guide/indexing.html#returning-a-view-versus-a-copy\n",
      "  data[col] = encoder.fit_transform(data[col])\n",
      "C:\\Users\\USER\\OneDrive\\Escritorio\\Maestría\\mi_proyecto_ml\\src\\data_loader.py:38: SettingWithCopyWarning: \n",
      "A value is trying to be set on a copy of a slice from a DataFrame.\n",
      "Try using .loc[row_indexer,col_indexer] = value instead\n",
      "\n",
      "See the caveats in the documentation: https://pandas.pydata.org/pandas-docs/stable/user_guide/indexing.html#returning-a-view-versus-a-copy\n",
      "  data[col] = encoder.fit_transform(data[col])\n",
      "C:\\Users\\USER\\OneDrive\\Escritorio\\Maestría\\mi_proyecto_ml\\src\\data_loader.py:38: SettingWithCopyWarning: \n",
      "A value is trying to be set on a copy of a slice from a DataFrame.\n",
      "Try using .loc[row_indexer,col_indexer] = value instead\n",
      "\n",
      "See the caveats in the documentation: https://pandas.pydata.org/pandas-docs/stable/user_guide/indexing.html#returning-a-view-versus-a-copy\n",
      "  data[col] = encoder.fit_transform(data[col])\n",
      "C:\\Users\\USER\\OneDrive\\Escritorio\\Maestría\\mi_proyecto_ml\\src\\data_loader.py:38: SettingWithCopyWarning: \n",
      "A value is trying to be set on a copy of a slice from a DataFrame.\n",
      "Try using .loc[row_indexer,col_indexer] = value instead\n",
      "\n",
      "See the caveats in the documentation: https://pandas.pydata.org/pandas-docs/stable/user_guide/indexing.html#returning-a-view-versus-a-copy\n",
      "  data[col] = encoder.fit_transform(data[col])\n",
      "C:\\Users\\USER\\OneDrive\\Escritorio\\Maestría\\mi_proyecto_ml\\src\\data_loader.py:38: SettingWithCopyWarning: \n",
      "A value is trying to be set on a copy of a slice from a DataFrame.\n",
      "Try using .loc[row_indexer,col_indexer] = value instead\n",
      "\n",
      "See the caveats in the documentation: https://pandas.pydata.org/pandas-docs/stable/user_guide/indexing.html#returning-a-view-versus-a-copy\n",
      "  data[col] = encoder.fit_transform(data[col])\n"
     ]
    }
   ],
   "source": [
    "import sys\n",
    "import os\n",
    "import numpy as np  \n",
    "sys.path.append(os.path.abspath(\"C:\\\\Users\\\\USER\\\\OneDrive\\\\Escritorio\\\\Maestría\\\\mi_proyecto_ml\\\\src\"))\n",
    "from data_loader import load_and_preprocess_data\n",
    "file_path = \"C:\\\\Users\\\\USER\\\\OneDrive\\\\Escritorio\\\\Maestría\\\\mi_proyecto_ml\\\\src\\\\House_Rent_Dataset.csv\"\n",
    "data, data_scaled, data_original = load_and_preprocess_data(file_path)\n"
   ]
  },
  {
   "cell_type": "code",
   "execution_count": 2,
   "metadata": {},
   "outputs": [
    {
     "data": {
      "text/html": [
       "<div>\n",
       "<style scoped>\n",
       "    .dataframe tbody tr th:only-of-type {\n",
       "        vertical-align: middle;\n",
       "    }\n",
       "\n",
       "    .dataframe tbody tr th {\n",
       "        vertical-align: top;\n",
       "    }\n",
       "\n",
       "    .dataframe thead th {\n",
       "        text-align: right;\n",
       "    }\n",
       "</style>\n",
       "<table border=\"1\" class=\"dataframe\">\n",
       "  <thead>\n",
       "    <tr style=\"text-align: right;\">\n",
       "      <th></th>\n",
       "      <th>BHK</th>\n",
       "      <th>Rent</th>\n",
       "      <th>Size</th>\n",
       "      <th>Floor</th>\n",
       "      <th>Area Type</th>\n",
       "      <th>Area Locality</th>\n",
       "      <th>City</th>\n",
       "      <th>Furnishing Status</th>\n",
       "      <th>Tenant Preferred</th>\n",
       "      <th>Bathroom</th>\n",
       "      <th>Point of Contact</th>\n",
       "    </tr>\n",
       "  </thead>\n",
       "  <tbody>\n",
       "    <tr>\n",
       "      <th>0</th>\n",
       "      <td>2</td>\n",
       "      <td>9.210440</td>\n",
       "      <td>1100</td>\n",
       "      <td>417</td>\n",
       "      <td>2</td>\n",
       "      <td>212</td>\n",
       "      <td>4</td>\n",
       "      <td>2</td>\n",
       "      <td>1</td>\n",
       "      <td>2</td>\n",
       "      <td>2</td>\n",
       "    </tr>\n",
       "    <tr>\n",
       "      <th>1</th>\n",
       "      <td>2</td>\n",
       "      <td>9.903538</td>\n",
       "      <td>800</td>\n",
       "      <td>14</td>\n",
       "      <td>2</td>\n",
       "      <td>1465</td>\n",
       "      <td>4</td>\n",
       "      <td>1</td>\n",
       "      <td>1</td>\n",
       "      <td>1</td>\n",
       "      <td>2</td>\n",
       "    </tr>\n",
       "    <tr>\n",
       "      <th>2</th>\n",
       "      <td>2</td>\n",
       "      <td>9.741027</td>\n",
       "      <td>1000</td>\n",
       "      <td>14</td>\n",
       "      <td>2</td>\n",
       "      <td>1690</td>\n",
       "      <td>4</td>\n",
       "      <td>1</td>\n",
       "      <td>1</td>\n",
       "      <td>1</td>\n",
       "      <td>2</td>\n",
       "    </tr>\n",
       "    <tr>\n",
       "      <th>3</th>\n",
       "      <td>2</td>\n",
       "      <td>9.210440</td>\n",
       "      <td>800</td>\n",
       "      <td>10</td>\n",
       "      <td>2</td>\n",
       "      <td>503</td>\n",
       "      <td>4</td>\n",
       "      <td>2</td>\n",
       "      <td>1</td>\n",
       "      <td>1</td>\n",
       "      <td>2</td>\n",
       "    </tr>\n",
       "    <tr>\n",
       "      <th>4</th>\n",
       "      <td>2</td>\n",
       "      <td>8.922792</td>\n",
       "      <td>850</td>\n",
       "      <td>10</td>\n",
       "      <td>1</td>\n",
       "      <td>1817</td>\n",
       "      <td>4</td>\n",
       "      <td>2</td>\n",
       "      <td>0</td>\n",
       "      <td>1</td>\n",
       "      <td>2</td>\n",
       "    </tr>\n",
       "    <tr>\n",
       "      <th>...</th>\n",
       "      <td>...</td>\n",
       "      <td>...</td>\n",
       "      <td>...</td>\n",
       "      <td>...</td>\n",
       "      <td>...</td>\n",
       "      <td>...</td>\n",
       "      <td>...</td>\n",
       "      <td>...</td>\n",
       "      <td>...</td>\n",
       "      <td>...</td>\n",
       "      <td>...</td>\n",
       "    </tr>\n",
       "    <tr>\n",
       "      <th>4741</th>\n",
       "      <td>2</td>\n",
       "      <td>9.615872</td>\n",
       "      <td>1000</td>\n",
       "      <td>253</td>\n",
       "      <td>1</td>\n",
       "      <td>210</td>\n",
       "      <td>3</td>\n",
       "      <td>1</td>\n",
       "      <td>1</td>\n",
       "      <td>2</td>\n",
       "      <td>2</td>\n",
       "    </tr>\n",
       "    <tr>\n",
       "      <th>4742</th>\n",
       "      <td>3</td>\n",
       "      <td>10.275086</td>\n",
       "      <td>2000</td>\n",
       "      <td>16</td>\n",
       "      <td>2</td>\n",
       "      <td>1165</td>\n",
       "      <td>3</td>\n",
       "      <td>1</td>\n",
       "      <td>1</td>\n",
       "      <td>3</td>\n",
       "      <td>2</td>\n",
       "    </tr>\n",
       "    <tr>\n",
       "      <th>4743</th>\n",
       "      <td>3</td>\n",
       "      <td>10.463132</td>\n",
       "      <td>1750</td>\n",
       "      <td>253</td>\n",
       "      <td>1</td>\n",
       "      <td>694</td>\n",
       "      <td>3</td>\n",
       "      <td>1</td>\n",
       "      <td>1</td>\n",
       "      <td>3</td>\n",
       "      <td>0</td>\n",
       "    </tr>\n",
       "    <tr>\n",
       "      <th>4744</th>\n",
       "      <td>3</td>\n",
       "      <td>10.714440</td>\n",
       "      <td>1500</td>\n",
       "      <td>214</td>\n",
       "      <td>1</td>\n",
       "      <td>564</td>\n",
       "      <td>3</td>\n",
       "      <td>1</td>\n",
       "      <td>2</td>\n",
       "      <td>2</td>\n",
       "      <td>0</td>\n",
       "    </tr>\n",
       "    <tr>\n",
       "      <th>4745</th>\n",
       "      <td>2</td>\n",
       "      <td>9.615872</td>\n",
       "      <td>1000</td>\n",
       "      <td>289</td>\n",
       "      <td>1</td>\n",
       "      <td>1842</td>\n",
       "      <td>3</td>\n",
       "      <td>2</td>\n",
       "      <td>0</td>\n",
       "      <td>2</td>\n",
       "      <td>2</td>\n",
       "    </tr>\n",
       "  </tbody>\n",
       "</table>\n",
       "<p>4486 rows × 11 columns</p>\n",
       "</div>"
      ],
      "text/plain": [
       "      BHK       Rent  Size  Floor  Area Type  Area Locality  City  \\\n",
       "0       2   9.210440  1100    417          2            212     4   \n",
       "1       2   9.903538   800     14          2           1465     4   \n",
       "2       2   9.741027  1000     14          2           1690     4   \n",
       "3       2   9.210440   800     10          2            503     4   \n",
       "4       2   8.922792   850     10          1           1817     4   \n",
       "...   ...        ...   ...    ...        ...            ...   ...   \n",
       "4741    2   9.615872  1000    253          1            210     3   \n",
       "4742    3  10.275086  2000     16          2           1165     3   \n",
       "4743    3  10.463132  1750    253          1            694     3   \n",
       "4744    3  10.714440  1500    214          1            564     3   \n",
       "4745    2   9.615872  1000    289          1           1842     3   \n",
       "\n",
       "      Furnishing Status  Tenant Preferred  Bathroom  Point of Contact  \n",
       "0                     2                 1         2                 2  \n",
       "1                     1                 1         1                 2  \n",
       "2                     1                 1         1                 2  \n",
       "3                     2                 1         1                 2  \n",
       "4                     2                 0         1                 2  \n",
       "...                 ...               ...       ...               ...  \n",
       "4741                  1                 1         2                 2  \n",
       "4742                  1                 1         3                 2  \n",
       "4743                  1                 1         3                 0  \n",
       "4744                  1                 2         2                 0  \n",
       "4745                  2                 0         2                 2  \n",
       "\n",
       "[4486 rows x 11 columns]"
      ]
     },
     "execution_count": 2,
     "metadata": {},
     "output_type": "execute_result"
    }
   ],
   "source": [
    "data"
   ]
  },
  {
   "cell_type": "code",
   "execution_count": 3,
   "metadata": {},
   "outputs": [
    {
     "name": "stdout",
     "output_type": "stream",
     "text": [
      "<class 'pandas.core.frame.DataFrame'>\n",
      "Index: 4486 entries, 0 to 4745\n",
      "Data columns (total 11 columns):\n",
      " #   Column             Non-Null Count  Dtype  \n",
      "---  ------             --------------  -----  \n",
      " 0   BHK                4486 non-null   int64  \n",
      " 1   Rent               4486 non-null   float64\n",
      " 2   Size               4486 non-null   int64  \n",
      " 3   Floor              4486 non-null   int32  \n",
      " 4   Area Type          4486 non-null   int32  \n",
      " 5   Area Locality      4486 non-null   int32  \n",
      " 6   City               4486 non-null   int32  \n",
      " 7   Furnishing Status  4486 non-null   int32  \n",
      " 8   Tenant Preferred   4486 non-null   int32  \n",
      " 9   Bathroom           4486 non-null   int64  \n",
      " 10  Point of Contact   4486 non-null   int32  \n",
      "dtypes: float64(1), int32(7), int64(3)\n",
      "memory usage: 297.9 KB\n"
     ]
    }
   ],
   "source": [
    "data.info()"
   ]
  },
  {
   "cell_type": "markdown",
   "metadata": {},
   "source": [
    "# Estadísticas descriptivas"
   ]
  },
  {
   "cell_type": "code",
   "execution_count": 4,
   "metadata": {},
   "outputs": [
    {
     "name": "stdout",
     "output_type": "stream",
     "text": [
      "               BHK         Rent         Size        Floor    Area Type  \\\n",
      "count  4486.000000  4486.000000  4486.000000  4486.000000  4486.000000   \n",
      "mean      2.081141     9.873313   955.300936   212.098306     1.516942   \n",
      "std       0.788217     0.817263   581.135488   147.820947     0.500660   \n",
      "min       1.000000     8.546169    10.000000     0.000000     0.000000   \n",
      "25%       2.000000     9.210440   600.000000    26.000000     1.000000   \n",
      "50%       2.000000     9.680406   850.000000   191.000000     2.000000   \n",
      "75%       3.000000    10.373522  1200.000000   338.000000     2.000000   \n",
      "max       6.000000    12.254868  8000.000000   440.000000     2.000000   \n",
      "\n",
      "       Area Locality         City  Furnishing Status  Tenant Preferred  \\\n",
      "count    4486.000000  4486.000000        4486.000000       4486.000000   \n",
      "mean     1052.946500     2.415961           1.235845          0.922648   \n",
      "std       609.096156     1.779470           0.680756          0.521587   \n",
      "min         0.000000     0.000000           0.000000          0.000000   \n",
      "25%       536.000000     1.000000           1.000000          1.000000   \n",
      "50%      1060.000000     2.000000           1.000000          1.000000   \n",
      "75%      1570.000000     4.000000           2.000000          1.000000   \n",
      "max      2149.000000     5.000000           2.000000          2.000000   \n",
      "\n",
      "          Bathroom  Point of Contact  \n",
      "count  4486.000000       4486.000000  \n",
      "mean      1.953188          1.360901  \n",
      "std       0.822776          0.932589  \n",
      "min       1.000000          0.000000  \n",
      "25%       1.000000          0.000000  \n",
      "50%       2.000000          2.000000  \n",
      "75%       2.000000          2.000000  \n",
      "max      10.000000          2.000000  \n"
     ]
    },
    {
     "data": {
      "text/plain": [
       "(4486, 11)"
      ]
     },
     "execution_count": 4,
     "metadata": {},
     "output_type": "execute_result"
    }
   ],
   "source": [
    "print(data.describe())\n",
    "data.shape"
   ]
  },
  {
   "cell_type": "markdown",
   "metadata": {},
   "source": [
    "# Visualización Data"
   ]
  },
  {
   "cell_type": "code",
   "execution_count": 5,
   "metadata": {},
   "outputs": [
    {
     "data": {
      "image/png": "[encoded data removed]",
      "text/plain": [
       "<Figure size 1000x600 with 1 Axes>"
      ]
     },
     "metadata": {},
     "output_type": "display_data"
    }
   ],
   "source": [
    "import matplotlib.pyplot as plt\n",
    "import seaborn as sns\n",
    "\n",
    "# Distribución del precio de alquiler\n",
    "plt.figure(figsize=(10, 6))\n",
    "sns.histplot(data_original['Rent'], bins=30, kde=True)\n",
    "plt.title('Distribución del Precio de Alquiler')\n",
    "plt.xlabel('Precio de Alquiler')\n",
    "plt.ylabel('Frecuencia')\n",
    "plt.show()"
   ]
  },
  {
   "cell_type": "code",
   "execution_count": 6,
   "metadata": {},
   "outputs": [],
   "source": [
    "# Quitar el 2% superior e inferior en relación con la variable 'Rent'\n",
    "lower_bound = data['Rent'].quantile(0.02)\n",
    "upper_bound = data['Rent'].quantile(0.98)\n",
    "\n",
    "data_filtered = data[(data['Rent'] > lower_bound) & (data['Rent'] < upper_bound)]"
   ]
  },
  {
   "cell_type": "markdown",
   "metadata": {},
   "source": [
    "# Visualización Data ajustando variable objetivo"
   ]
  },
  {
   "cell_type": "code",
   "execution_count": 7,
   "metadata": {},
   "outputs": [
    {
     "name": "stderr",
     "output_type": "stream",
     "text": [
      "C:\\Users\\USER\\AppData\\Local\\Temp\\ipykernel_21696\\2743402420.py:1: SettingWithCopyWarning: \n",
      "A value is trying to be set on a copy of a slice from a DataFrame.\n",
      "Try using .loc[row_indexer,col_indexer] = value instead\n",
      "\n",
      "See the caveats in the documentation: https://pandas.pydata.org/pandas-docs/stable/user_guide/indexing.html#returning-a-view-versus-a-copy\n",
      "  data['Rent'] = np.log1p(data['Rent'])\n"
     ]
    },
    {
     "data": {
      "image/png": "[encoded data removed]",
      "text/plain": [
       "<Figure size 1000x600 with 1 Axes>"
      ]
     },
     "metadata": {},
     "output_type": "display_data"
    }
   ],
   "source": [
    "data['Rent'] = np.log1p(data['Rent'])\n",
    "plt.figure(figsize=(10, 6))\n",
    "sns.histplot(data['Rent'], bins=30, kde=True)\n",
    "plt.title('Distribución del Precio de Alquiler')\n",
    "plt.xlabel('Precio de Alquiler')\n",
    "plt.ylabel('Frecuencia')\n",
    "plt.show()"
   ]
  }
 ],
 "metadata": {
  "kernelspec": {
   "display_name": "Python 3",
   "language": "python",
   "name": "python3"
  },
  "language_info": {
   "codemirror_mode": {
    "name": "ipython",
    "version": 3
   },
   "file_extension": ".py",
   "mimetype": "text/x-python",
   "name": "python",
   "nbconvert_exporter": "python",
   "pygments_lexer": "ipython3",
   "version": "3.10.16"
  }
 },
 "nbformat": 4,
 "nbformat_minor": 2
}
